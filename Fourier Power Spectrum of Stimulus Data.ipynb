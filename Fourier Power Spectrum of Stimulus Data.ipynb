{
 "cells": [
  {
   "cell_type": "markdown",
   "id": "eef1774e",
   "metadata": {
    "pycharm": {
     "name": "#%% md\n"
    }
   },
   "source": [
    "**Calculating Fourier Power Spectrum of Protocols Generated for Arij in June 2022**"
   ]
  },
  {
   "cell_type": "code",
   "execution_count": 6,
   "id": "f06324f2",
   "metadata": {
    "pycharm": {
     "name": "#%%\n"
    }
   },
   "outputs": [],
   "source": [
    "import numpy as np\n",
    "import matplotlib.pyplot as plt\n",
    "import Fourier_Power_Spectrum\n",
    "import plotting_utilities\n",
    "import warnings; warnings.simplefilter('ignore')"
   ]
  },
  {
   "cell_type": "markdown",
   "id": "eeb91f42",
   "metadata": {
    "pycharm": {
     "name": "#%% md\n"
    }
   },
   "source": [
    "In June 2022, Lawson Fuller sent Professor Arij Daou some files of stimulating currents for HVC neurons. This stimulating current data is stored on KAM in the directory /volume1/homes/adaou/Chaotic Stimuli/stimuli_from_Lawson/ \n",
    "\n",
    "Let's see what the Fourier power spectrum of one of these currents is."
   ]
  },
  {
   "cell_type": "markdown",
   "id": "9ad4cc80",
   "metadata": {
    "pycharm": {
     "name": "#%% md\n"
    }
   },
   "source": [
    "# Calculating FPS of a Single Stimulus"
   ]
  },
  {
   "cell_type": "code",
   "execution_count": 10,
   "id": "ddf0155f",
   "metadata": {
    "pycharm": {
     "name": "#%%\n"
    }
   },
   "outputs": [],
   "source": [
    "# Basic Plotting\n",
    "save_and_or_display = \"display\"\n",
    "\n",
    "neuron_directory = \"making_stimulus_protocols/range=100pA/\"\n",
    "# neuron_directory = \"./\"\n",
    "\n",
    "filename = \"I_colpitts_x_time_dilation=6.0range=100_(I).txt\"\n",
    "# filename = \"N2_volt.txt\"\n",
    "\n",
    "current_arr = np.loadtxt(neuron_directory + filename)\n",
    "\n",
    "freq_units = \"kHz\" # frequency units\n",
    "sampling_rate = 50.0 # kHz (1/ms)\n",
    "delta_t = 1.0/sampling_rate  # this is milliseconds (1.0/50kHz= 0.02ms)\n",
    "num_timesteps = current_arr.shape[0]\n",
    "t_final = num_timesteps * delta_t  # measured in ms\n",
    "t_arr = np.arange(start=0, stop= t_final, step= delta_t) # units: ms\n",
    "\n",
    "# Calculate the FPS of I(t)\n",
    "FPS_list, freq_array = Fourier_Power_Spectrum.calc_Fourier_power_spectrum([current_arr], t_arr)"
   ]
  },
  {
   "cell_type": "code",
   "execution_count": 11,
   "id": "3b6f2459",
   "metadata": {
    "scrolled": true,
    "pycharm": {
     "name": "#%%\n"
    }
   },
   "outputs": [
    {
     "data": {
      "image/png": "[encoded data removed]",
      "text/plain": [
       "<Figure size 432x288 with 1 Axes>"
      ]
     },
     "metadata": {
      "needs_background": "light"
     },
     "output_type": "display_data"
    }
   ],
   "source": [
    "# Plot the FPS of I(t)\n",
    "fig = plotting_utilities.plotting_quantity(freq_array[1:], FPS_list[0][1:]/np.max(FPS_list[0][1:]), \n",
    "                                     \"FPS_I(t) of (I_colpitts_x_time_dilation=4.0)\", \n",
    "                                     \"Frequency (kHz)\", \"Power\", \"display\", xlim=(0,0.5))"
   ]
  },
  {
   "cell_type": "code",
   "execution_count": 12,
   "id": "b9c9f929",
   "metadata": {
    "pycharm": {
     "name": "#%%\n"
    }
   },
   "outputs": [
    {
     "name": "stdout",
     "output_type": "stream",
     "text": [
      "[array([9.13738064e+12, 5.65427806e+09, 3.71232078e+09, ...,\n",
      "       4.63029423e+02, 4.63029400e+02, 4.63029395e+02])]\n"
     ]
    }
   ],
   "source": [
    "print((FPS_list))"
   ]
  },
  {
   "cell_type": "markdown",
   "id": "8a63d6ce",
   "metadata": {
    "pycharm": {
     "name": "#%% md\n"
    }
   },
   "source": [
    "This is completely consistent with the FPS chart created by running the code:\n",
    "    make_stimuli.py\n",
    "I have confidence in this Fourier_Power_Spectrum.calc_Fourier_power_spectrum() function, and their agreement makes me equally confident in both of them."
   ]
  },
  {
   "cell_type": "markdown",
   "id": "2fee8884",
   "metadata": {
    "pycharm": {
     "name": "#%% md\n"
    }
   },
   "source": [
    "By testing on N2_stim and N2_twin, and based on Jason's ability to use data assimilation on those files, we can conclude that the profiles of the stimulus and the voltage don't have to line up in order for a data assimilation method to be successful. Does this apply to RBFs as well? I don't know yet. We could always test RBFs on this pair of data files as well."
   ]
  },
  {
   "cell_type": "code",
   "execution_count": null,
   "id": "cfe76e72",
   "metadata": {
    "pycharm": {
     "name": "#%%\n"
    }
   },
   "outputs": [],
   "source": []
  }
 ],
 "metadata": {
  "kernelspec": {
   "display_name": "Python 3",
   "language": "python",
   "name": "python3"
  },
  "language_info": {
   "codemirror_mode": {
    "name": "ipython",
    "version": 3
   },
   "file_extension": ".py",
   "mimetype": "text/x-python",
   "name": "python",
   "nbconvert_exporter": "python",
   "pygments_lexer": "ipython3",
   "version": "3.7.7"
  }
 },
 "nbformat": 4,
 "nbformat_minor": 5
}