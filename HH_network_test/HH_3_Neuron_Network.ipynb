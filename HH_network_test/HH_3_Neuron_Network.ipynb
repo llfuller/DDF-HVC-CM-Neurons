{
 "cells": [
  {
   "cell_type": "code",
   "execution_count": 1,
   "metadata": {},
   "outputs": [],
   "source": [
    "import numpy as np \n",
    "import scipy "
   ]
  },
  {
   "cell_type": "markdown",
   "metadata": {},
   "source": [
    "# Target: We want to mimic the activity of a 3 neuron network with a HH neuron \n",
    "<img src=\"3_neuron_example.png\" alt=\"drawing\" width=\"1000\" />\n",
    "\n",
    "Tasks: \n",
    "1. Use simple HH neurons to build this network \n",
    "2. Use different HH neurons to build this network\n",
    "3. Use different DDF neurons to build this network "
   ]
  },
  {
   "cell_type": "markdown",
   "metadata": {},
   "source": [
    "## First, we need to create the simple HH neuron"
   ]
  },
  {
   "cell_type": "code",
   "execution_count": null,
   "metadata": {},
   "outputs": [],
   "source": [
    "class HHNeuron(): \n",
    "    def __init__(self, g_Na_0, g_K_0, g_L_0, S_0_alpha, S_t_tau, V_baseline): \n",
    "        # gating constants\n",
    "        self.g_Na = g_Na_0\n",
    "        self.g_K = g_K_0\n",
    "        self.g_L = g_L_0\n",
    "        # S constants \n",
    "        self.alpha = S_0_alpha\n",
    "        self.tau = S_t_tau\n",
    "        self.V_0 = V_baseline\n",
    "    \n",
    "    # utility function \n",
    "    def S_0(self, V):\n",
    "        pass\n",
    "\n",
    "    def S_Vt(self, V_t, S_1): \n",
    "        pass\n",
    "\n",
    "    # TODO: what are the S functions, and how do they interact\n",
    "\n",
    "    def activate(self, I_pass, I_stim, \n",
    "                    V_t, m_t, h_t, n_t):\n",
    "        \"\"\"\n",
    "        Change neuron's Na concentration and stuff\n",
    "        \n",
    "        Parameters: \n",
    "            I_pass: passing current from other neurons \n",
    "            I_stim: current from outside stimulant\n",
    "            V_t: membrane voltage of the neuron\n",
    "            m_t, h_t, n_t: gating variables \n",
    "\n",
    "        Return: \n",
    "            C $\\frac{dV(t)}{dt}: activation of the neuron\n",
    "        \"\"\"\n",
    "        pass\n",
    "\n"
   ]
  }
 ],
 "metadata": {
  "kernelspec": {
   "display_name": "Python 3.10.8 ('ddf')",
   "language": "python",
   "name": "python3"
  },
  "language_info": {
   "codemirror_mode": {
    "name": "ipython",
    "version": 3
   },
   "file_extension": ".py",
   "mimetype": "text/x-python",
   "name": "python",
   "nbconvert_exporter": "python",
   "pygments_lexer": "ipython3",
   "version": "3.10.8"
  },
  "orig_nbformat": 4,
  "vscode": {
   "interpreter": {
    "hash": "085838f614cb10e93db8115f98de0cce4ddd811b7786116a01bde156201bf080"
   }
  }
 },
 "nbformat": 4,
 "nbformat_minor": 2
}
