{
 "cells": [
  {
   "cell_type": "markdown",
   "metadata": {},
   "source": [
    "Test on kmeans clustering"
   ]
  },
  {
   "cell_type": "code",
   "execution_count": 1,
   "metadata": {},
   "outputs": [],
   "source": [
    "from sklearn.cluster import KMeans\n",
    "import numpy as np\n",
    "X = np.array([[1, 2,3], [1, 4,3], [1, 0,3],[10, 2,5], [10, 4,5], [10, 0,5]])\n",
    "kmeans = KMeans(n_clusters=2, random_state=0).fit(X)\n",
    "kmeans.cluster_centers_\n",
    "fish_folder = \"fish_data/\" # eric's data folder"
   ]
  },
  {
   "cell_type": "code",
   "execution_count": 2,
   "metadata": {},
   "outputs": [],
   "source": [
    "Centers = kmeans.cluster_centers_"
   ]
  },
  {
   "cell_type": "markdown",
   "metadata": {},
   "source": [
    "test on 3d plot"
   ]
  },
  {
   "cell_type": "code",
   "execution_count": 3,
   "metadata": {},
   "outputs": [],
   "source": [
    "from mpl_toolkits import mplot3d\n",
    "import matplotlib.pyplot as plt"
   ]
  },
  {
   "cell_type": "code",
   "execution_count": 4,
   "metadata": {},
   "outputs": [],
   "source": [
    "ax = plt.axes(projection='3d')\n",
    "\n",
    "# Data for a three-dimensional line\n",
    "zline = np.linspace(0, 15, 1000)\n",
    "xline = np.sin(zline)\n",
    "yline = np.cos(zline)\n",
    "ax.plot3D(xline, yline, zline, 'gray')\n",
    "\n",
    "# Data for three-dimensional scattered points\n",
    "zdata = 15 * np.random.random(100)\n",
    "xdata = np.sin(zdata) + 0.1 * np.random.randn(100)\n",
    "ydata = np.cos(zdata) + 0.1 * np.random.randn(100)\n",
    "ax.scatter3D(xdata, ydata, zdata, c=zdata, cmap='Greens')\n",
    "ax.set_xlabel('$X$', fontsize=10)\n",
    "ax.set_ylabel('$Y$')\n",
    "ax.set_zlabel('$Z$')\n",
    "ax.view_init(90,0)\n"
   ]
  },
  {
   "cell_type": "code",
   "execution_count": 5,
   "metadata": {},
   "outputs": [],
   "source": [
    "plt.figure()\n",
    "ax = plt.axes(projection='3d')\n",
    "\n",
    "# Data for a three-dimensional line\n",
    "zline = np.linspace(0, 15, 1000)\n",
    "xline = np.sin(zline)\n",
    "yline = np.cos(zline)\n",
    "ax.plot3D(xline, yline, zline, 'gray')\n",
    "\n",
    "# Data for three-dimensional scattered points\n",
    "zdata = 15 * np.random.random(100)\n",
    "xdata = np.sin(zdata) + 0.1 * np.random.randn(100)\n",
    "ydata = np.cos(zdata) + 0.1 * np.random.randn(100)\n",
    "ax.scatter3D(xdata, ydata, zdata, c=zdata, cmap='Greens')\n",
    "plt.xlabel(\"x\")\n",
    "plt.ylabel(\"y\")\n",
    "ax.view_init(30,-45)\n",
    "plt.savefig(fish_folder+\"test.png\")\n",
    "ax.view_init(90,0)\n",
    "plt.savefig(fish_folder+\"test2.png\")\n",
    "ax.view_init(10,90)\n",
    "plt.savefig(fish_folder+\"test3.png\")"
   ]
  },
  {
   "cell_type": "markdown",
   "metadata": {},
   "source": [
    "read the data by using Lawson's code"
   ]
  },
  {
   "cell_type": "code",
   "execution_count": 6,
   "metadata": {},
   "outputs": [
    {
     "name": "stdout",
     "output_type": "stream",
     "text": [
      "Extensions searched: [tT][xX][tT]\n",
      "Full paths list:['Data2022-50KhZ/11-30-2022/Lilac 157/Neuron 1/epoch_1.txt', 'Data2022-50KhZ/11-30-2022/Lilac 157/Neuron 1/epoch_2.txt', 'Data2022-50KhZ/11-30-2022/Lilac 157/Neuron 1/epoch_3.txt', 'Data2022-50KhZ/11-30-2022/Lilac 157/Neuron 1/epoch_4.txt', 'Data2022-50KhZ/11-30-2022/Lilac 157/Neuron 1/epoch_5.txt', 'Data2022-50KhZ/11-30-2022/Lilac 157/Neuron 1/epoch_6.txt', 'Data2022-50KhZ/11-30-2022/Lilac 157/Neuron 1/epoch_7.txt', 'Data2022-50KhZ/11-30-2022/Lilac 157/Neuron 2/epoch_1.txt', 'Data2022-50KhZ/11-30-2022/Lilac 157/Neuron 2/epoch_2.txt', 'Data2022-50KhZ/11-30-2022/Lilac 157/Neuron 2/epoch_3.txt', 'Data2022-50KhZ/11-30-2022/Lilac 157/Neuron 3/epoch_1.txt', 'Data2022-50KhZ/11-30-2022/Lilac 157/Neuron 3/epoch_2.txt', 'Data2022-50KhZ/11-30-2022/Lilac 157/Neuron 3/epoch_3.txt', 'Data2022-50KhZ/11-30-2022/Lilac 157/Neuron 3/epoch_4.txt', 'Data2022-50KhZ/11-30-2022/Lilac 157/Neuron 3/epoch_5.txt', 'Data2022-50KhZ/11-30-2022/Lilac 160/Neuron 1/epoch_1.txt', 'Data2022-50KhZ/11-30-2022/Lilac 160/Neuron 1/epoch_2.txt', 'Data2022-50KhZ/11-30-2022/Lilac 160/Neuron 1/epoch_3.txt', 'Data2022-50KhZ/11-30-2022/Lilac 160/Neuron 1/epoch_4.txt', 'Data2022-50KhZ/11-30-2022/Lilac 160/Neuron 1/epoch_5.txt', 'Data2022-50KhZ/11-30-2022/Lilac 160/Neuron 1/epoch_6.txt', 'Data2022-50KhZ/11-30-2022/Lilac 160/Neuron 2/epoch_1.txt', 'Data2022-50KhZ/11-30-2022/Lilac 160/Neuron 2/epoch_2.txt', 'Data2022-50KhZ/11-30-2022/Lilac 160/Neuron 2/epoch_3.txt', 'Data2022-50KhZ/11-30-2022/Lilac 160/Neuron 2/epoch_4.txt', 'Data2022-50KhZ/11-30-2022/Lilac 160/Neuron 2/epoch_5.txt', 'Data2022-50KhZ/11-30-2022/Lilac 160/Neuron 2/epoch_6.txt', 'Data2022-50KhZ/11-30-2022/Lilac 160/Neuron 2/epoch_7.txt', 'Data2022-50KhZ/11-30-2022/Lilac 160/Neuron 3/epoch_1.txt', 'Data2022-50KhZ/11-30-2022/Lilac 160/Neuron 3/epoch_2.txt', 'Data2022-50KhZ/11-30-2022/Lilac 160/Neuron 3/epoch_3.txt', 'Data2022-50KhZ/11-30-2022/Lilac 160/Neuron 3/epoch_4.txt', 'Data2022-50KhZ/11-30-2022/Lilac 160/Neuron 3/epoch_5.txt', 'Data2022-50KhZ/11-30-2022/Lilac 160/Neuron 3/epoch_6.txt', 'Data2022-50KhZ/11-30-2022/Lilac 160/Neuron 3/epoch_7.txt', 'Data2022-50KhZ/11-30-2022/Lilac 160/Neuron 4/epoch_1.txt', 'Data2022-50KhZ/11-30-2022/Lilac 160/Neuron 4/epoch_2.txt', 'Data2022-50KhZ/11-30-2022/Lilac 160/Neuron 4/epoch_3.txt', 'Data2022-50KhZ/11-30-2022/Lilac 160/Neuron 4/epoch_4.txt', 'Data2022-50KhZ/11-30-2022/Lilac 160/Neuron 4/epoch_5.txt', 'Data2022-50KhZ/11-30-2022/Lilac 160/Neuron 4/epoch_6.txt', 'Data2022-50KhZ/11-30-2022/Lilac 160/Neuron 4/epoch_7.txt', 'Data2022-50KhZ/11-30-2022/Lilac 160/Neuron 5/epoch_1.txt', 'Data2022-50KhZ/11-30-2022/Lilac 160/Neuron 5/epoch_2.txt', 'Data2022-50KhZ/11-30-2022/Lilac 160/Neuron 5/epoch_3.txt', 'Data2022-50KhZ/11-30-2022/Lilac 160/Neuron 5/epoch_4.txt', 'Data2022-50KhZ/11-30-2022/Lilac 160/Neuron 5/epoch_5.txt', 'Data2022-50KhZ/11-30-2022/Lilac 160/Neuron 5/epoch_6.txt', 'Data2022-50KhZ/7-7-2022/Lilac 114/Neuron 1/epoch_1.txt', 'Data2022-50KhZ/7-7-2022/Lilac 114/Neuron 1/epoch_2.txt', 'Data2022-50KhZ/7-7-2022/Lilac 114/Neuron 1/epoch_3.txt', 'Data2022-50KhZ/7-7-2022/Lilac 114/Neuron 1/epoch_4.txt', 'Data2022-50KhZ/7-7-2022/Lilac 114/Neuron 1/epoch_5.txt', 'Data2022-50KhZ/7-7-2022/Lilac 114/Neuron 2/epoch_1.txt', 'Data2022-50KhZ/7-7-2022/Lilac 114/Neuron 2/epoch_2.txt', 'Data2022-50KhZ/7-7-2022/Lilac 242/Neuron 1/epoch_1.txt', 'Data2022-50KhZ/7-7-2022/Lilac 242/Neuron 1/epoch_10.txt', 'Data2022-50KhZ/7-7-2022/Lilac 242/Neuron 1/epoch_11.txt', 'Data2022-50KhZ/7-7-2022/Lilac 242/Neuron 1/epoch_2.txt', 'Data2022-50KhZ/7-7-2022/Lilac 242/Neuron 1/epoch_3.txt', 'Data2022-50KhZ/7-7-2022/Lilac 242/Neuron 1/epoch_4.txt', 'Data2022-50KhZ/7-7-2022/Lilac 242/Neuron 1/epoch_5.txt', 'Data2022-50KhZ/7-7-2022/Lilac 242/Neuron 1/epoch_6.txt', 'Data2022-50KhZ/7-7-2022/Lilac 242/Neuron 1/epoch_7.txt', 'Data2022-50KhZ/7-7-2022/Lilac 242/Neuron 1/epoch_8.txt', 'Data2022-50KhZ/7-7-2022/Lilac 242/Neuron 1/epoch_9.txt', 'Data2022-50KhZ/7-7-2022/Lilac 242/Neuron 2/epoch_1.txt', 'Data2022-50KhZ/7-7-2022/Lilac 242/Neuron 2/epoch_2.txt', 'Data2022-50KhZ/7-7-2022/Lilac 242/Neuron 2/epoch_3.txt', 'Data2022-50KhZ/7-7-2022/Lilac 242/Neuron 2/epoch_4.txt', 'Data2022-50KhZ/7-7-2022/Lilac 242/Neuron 3/epoch_1.txt', 'Data2022-50KhZ/7-7-2022/Lilac 242/Neuron 3/epoch_2.txt', 'Data2022-50KhZ/7-7-2022/Lilac 242/Neuron 3/epoch_3.txt', 'Data2022-50KhZ/7-7-2022/Lilac 242/Neuron 3/epoch_4.txt', 'Data2022-50KhZ/7-7-2022/Lilac 242/Neuron 3/epoch_5.txt', 'Data2022-50KhZ/7-7-2022/Lilac 242/Neuron 3/epoch_6.txt', 'Data2022-50KhZ/7-7-2022/Lilac 242/Neuron 4/epoch_1.txt', 'Data2022-50KhZ/7-7-2022/Lilac 242/Neuron 4/epoch_2.txt', 'Data2022-50KhZ/7-7-2022/Lilac 242/Neuron 4/epoch_3.txt', 'Data2022-50KhZ/7-7-2022/Lilac 242/Neuron 4/epoch_4.txt', 'Data2022-50KhZ/7-7-2022/Lilac 242/Neuron 4/epoch_5.txt', 'Data2022-50KhZ/7-7-2022/Red 171/Neuron 1/epoch_1.txt', 'Data2022-50KhZ/7-7-2022/Red 171/Neuron 1/epoch_10.txt', 'Data2022-50KhZ/7-7-2022/Red 171/Neuron 1/epoch_11.txt', 'Data2022-50KhZ/7-7-2022/Red 171/Neuron 1/epoch_12.txt', 'Data2022-50KhZ/7-7-2022/Red 171/Neuron 1/epoch_13.txt', 'Data2022-50KhZ/7-7-2022/Red 171/Neuron 1/epoch_14.txt', 'Data2022-50KhZ/7-7-2022/Red 171/Neuron 1/epoch_15.txt', 'Data2022-50KhZ/7-7-2022/Red 171/Neuron 1/epoch_16.txt', 'Data2022-50KhZ/7-7-2022/Red 171/Neuron 1/epoch_17.txt', 'Data2022-50KhZ/7-7-2022/Red 171/Neuron 1/epoch_2.txt', 'Data2022-50KhZ/7-7-2022/Red 171/Neuron 1/epoch_3.txt', 'Data2022-50KhZ/7-7-2022/Red 171/Neuron 1/epoch_4.txt', 'Data2022-50KhZ/7-7-2022/Red 171/Neuron 1/epoch_5.txt', 'Data2022-50KhZ/7-7-2022/Red 171/Neuron 1/epoch_6.txt', 'Data2022-50KhZ/7-7-2022/Red 171/Neuron 1/epoch_7.txt', 'Data2022-50KhZ/7-7-2022/Red 171/Neuron 1/epoch_8.txt', 'Data2022-50KhZ/7-7-2022/Red 171/Neuron 1/epoch_9.txt', 'Data2022-50KhZ/7-7-2022/Red 171/Neuron 2/epoch_1.txt', 'Data2022-50KhZ/7-7-2022/Red 171/Neuron 2/epoch_10.txt', 'Data2022-50KhZ/7-7-2022/Red 171/Neuron 2/epoch_2.txt', 'Data2022-50KhZ/7-7-2022/Red 171/Neuron 2/epoch_3.txt', 'Data2022-50KhZ/7-7-2022/Red 171/Neuron 2/epoch_4.txt', 'Data2022-50KhZ/7-7-2022/Red 171/Neuron 2/epoch_5.txt', 'Data2022-50KhZ/7-7-2022/Red 171/Neuron 2/epoch_6.txt', 'Data2022-50KhZ/7-7-2022/Red 171/Neuron 2/epoch_7.txt', 'Data2022-50KhZ/7-7-2022/Red 171/Neuron 2/epoch_8.txt', 'Data2022-50KhZ/7-7-2022/Red 171/Neuron 2/epoch_9.txt']\n"
     ]
    }
   ],
   "source": [
    "from TimeDelay_Neuron_DDF_GaussianForm import *\n",
    "import Fourier_Power_Spectrum\n",
    "import plotting_utilities\n",
    "import save_utilities\n",
    "import numpy as np\n",
    "import time\n",
    "import matplotlib.pyplot as plt\n",
    "import random\n",
    "import copy\n",
    "import glob\n",
    "from scipy.ndimage import gaussian_filter1d\n",
    "from mpl_toolkits import mplot3d\n",
    "\n",
    "import numpy.fft\n",
    "import math\n",
    "\n",
    "import os\n",
    "\n",
    "random.seed(2022)\n",
    "np.random.seed(2022)\n",
    "\n",
    "# This code is an edit branching off of Python code\n",
    "# \"User Side Code Separate Train and Test Same Epoch Different CM Auto File Loop\"\n",
    "# on June 6, 2022. I'm using new function definitions to make this file a cleaned up version of that file.\n",
    "\n",
    "# In[2]:\n",
    "# modify this\n",
    "save_and_or_display = \"save\"\n",
    "\n",
    "# epoch = None # also called \"episode\". set to None if not specified\n",
    "tau_arr = np.array([10])#np.array(range(10, 20)) # math notation: range(2,10) = all integers in bounds [2,9)\n",
    "D_arr = np.array([10])#np.array(range(2, 10)) # math notation: range(2,10) = all integers in bounds [2,9)\n",
    "beta_arr = np.array(np.power(10.0,[1]))#np.array(np.power(10.0,range(-3,3))) #range(-3,3) makes array go from 1e-3 to 1e2, not 1e3\n",
    "R_arr = np.array(np.power(10.0,[-8])) #range(-3,3) makes array go from 1e-3 to 1e2, not 1e3\n",
    "file_extension = \"txt\" # string; examples: \"atf\" or \"txt\" (case sensitive); don't include period; lowercase\n",
    "\n",
    "# specify what the neuron names are in the file titles here:\n",
    "neuron_name_list = [\"\"] # example: ['32425a75', '920061fe'] are two CM neurons from Meliza's 2014 data\n",
    "Current_units = \"pA\"\n",
    "Voltage_units = \"mV\"\n",
    "Time_units = \"ms\"\n",
    "TT = 0.02 # delta t in Time_units units, time between samples if not specified through loaded files\n",
    "\n",
    "# Data directory to recursively load data from:\n",
    "root_directory = \"Data2022-50KhZ/\" # example: \"HVC_biocm_data/simulations/\" ; Include the final \"/\"\n",
    "\n",
    "# Use only this file:\n",
    "files_to_evaluate = []#\"biocm_phasic_lzo_1_1_10_100_200.mat\"] # leave this list empty if you want to evaluate all files in root_directory recursively\n",
    "\n",
    "do_not_use_list = [] # bad data for RBF training\n",
    "\n",
    "FPS_xlim= (0,0.175)\n",
    "\n",
    "fraction_of_data_for_training = 4.0/6.0\n",
    "\n",
    "# In[3]:\n",
    "\n",
    "# ======== do not modify below ==========\n",
    "print(\"Extensions searched: \"+str(save_utilities.glob_extension_case_string_builder(file_extension)))\n",
    "full_paths_list = glob.glob(root_directory+\"**/*.\"+str(save_utilities.glob_extension_case_string_builder(file_extension)),\n",
    "                            recursive=True)\n",
    "neuron_name = \"\" # leave as \"\" if no neuron name is found\n",
    "# Files to ignore within directory:\n",
    "\n",
    "extensions_with_included_unit_data = [\"abf\",\"mat\"]\n",
    "\n",
    "# Code for 2014 Meliza CM data\n",
    "for i, path in enumerate(full_paths_list):\n",
    "    full_paths_list[i] = path.replace(\"\\\\\",\"/\")\n",
    "\n",
    "print(\"Full paths list:\"+str(full_paths_list))\n",
    "\n",
    "# In[4]:\n",
    "\n",
    "for a_path in full_paths_list:\n",
    "    if file_extension.lower() == \"txt\":\n",
    "        if \"voltage\" in a_path.lower(): # skip files if 'voltage' in filename. Only need to perform rest of this loop when 'current' in filename, to avoid duplicating work.\n",
    "            continue\n",
    "    # if \"epoch_5\" not in a_path:\n",
    "    #     continue\n",
    "    # if \"Neuron 2\" not in a_path:\n",
    "    #     continue\n",
    "    last_slash_location = a_path.rfind(\"/\")\n",
    "    a_filename = a_path[last_slash_location+1:]\n",
    "    if len(files_to_evaluate)>0 and a_filename not in files_to_evaluate:\n",
    "        continue\n",
    "    directory_to_read_input_data = a_path[:last_slash_location+1] # should include the last slash, but nothing past it\n",
    "    directory_to_store_plots = \"plots/\" + directory_to_read_input_data + str(a_filename[:-4]) + \"/\"\n",
    "    directory_to_store_txt_data = \"data_derived/\" + directory_to_read_input_data + 'txt_V_I_t/'\n",
    "    neuron_name = save_utilities.give_name_if_included_in_path(a_path, neuron_name_list)"
   ]
  },
  {
   "cell_type": "code",
   "execution_count": 7,
   "metadata": {},
   "outputs": [],
   "source": [
    "if file_extension.lower() in extensions_with_included_unit_data: # primarily .abf and .mat files\n",
    "    print(\"File may have included units which will override units specified by user at top of this code.\")\n",
    "    units_list = save_utilities.load_and_prepare_abf_or_mat_data(directory_to_read_input_data, a_filename,\n",
    "                                                    directory_to_store_txt_data, file_extension)\n",
    "    Current_units, Voltage_units, Time_units = units_list\n",
    "    imported_data = np.loadtxt(directory_to_store_txt_data + str(a_filename[:-4]) + \"_VIt.txt\")\n",
    "\n",
    "    loaded_V = imported_data[:, 0]\n",
    "    loaded_I = imported_data[:, 1]\n",
    "    loaded_t = imported_data[:, 2]\n",
    "else: # primarily .txt files\n",
    "    if root_directory==\"Data2022-50KhZ/\":\n",
    "        loaded_IV = np.loadtxt(a_path)\n",
    "        loaded_I = loaded_IV[:, 0]\n",
    "        loaded_V = loaded_IV[:, 1]\n",
    "    else:\n",
    "        if 'current' in a_path:\n",
    "            voltage_filepath = a_path.replace('current','voltage')\n",
    "        if 'Current' in a_path:\n",
    "            voltage_filepath = a_path.replace('Current','Voltage')\n",
    "        loaded_V = np.loadtxt(voltage_filepath)\n",
    "        loaded_I = np.loadtxt(a_path)\n",
    "    loaded_t = TT*np.array(range(len(loaded_V)))\n"
   ]
  },
  {
   "cell_type": "code",
   "execution_count": 8,
   "metadata": {},
   "outputs": [],
   "source": [
    "total_num_timesteps_in_data = len(loaded_V)\n",
    "train_timestep_end = round(total_num_timesteps_in_data*fraction_of_data_for_training) #4/6 for neuron 2 epoch 5, and 5/6 for everything else\n",
    "tau=10\n",
    "D=10\n",
    "    "
   ]
  },
  {
   "cell_type": "code",
   "execution_count": 9,
   "metadata": {},
   "outputs": [],
   "source": [
    "used_Voltage_train = loaded_V[:train_timestep_end - 1000 + tau*D]"
   ]
  },
  {
   "cell_type": "code",
   "execution_count": 50,
   "metadata": {},
   "outputs": [],
   "source": [
    "Voltage_test = loaded_V[train_timestep_end:total_num_timesteps_in_data]\n",
    "Voltage_train = loaded_V[:train_timestep_end]\n",
    "PreLength = Voltage_test.shape[0]-1000 # - 1000 just to give breathing room\n",
    "Time_test    = loaded_t[train_timestep_end:total_num_timesteps_in_data]\n",
    "bias = tau*(D-1)+1\n",
    "X = Time_test[bias:bias+PreLength]\n",
    "length = Voltage_train.shape[0]-1000 # - 1000 just to give breathing room\n"
   ]
  },
  {
   "cell_type": "code",
   "execution_count": 51,
   "metadata": {},
   "outputs": [],
   "source": [
    "plt.figure(figsize=(30,10))\n",
    "\n",
    "plt.subplot(2, 1, 1)\n",
    "plt.plot(loaded_t,loaded_V, color = 'blue')\n",
    "plt.ylabel('Voltage (mV)',fontsize=20)\n",
    "plt.title('Red171 Neuron 1 epoch1',fontsize=30)\n",
    "\n",
    "plt.subplot(2, 1, 2)\n",
    "plt.plot(loaded_t,loaded_I, color = 'orange')\n",
    "plt.ylabel('Current (pA)',fontsize=20)\n",
    "plt.xlabel('Time (ms)',fontsize=20)\n",
    "\n",
    "plt.savefig('Red171 Neuron 1 epoch1')"
   ]
  },
  {
   "cell_type": "code",
   "execution_count": 118,
   "metadata": {},
   "outputs": [
    {
     "name": "stdout",
     "output_type": "stream",
     "text": [
      "Length+1: 499001\n",
      "Shape of Xdata: (500000,)\n",
      "Shape of XTau: (10, 499001)\n",
      "Sample Xdata over length:(90, 499091)\n"
     ]
    }
   ],
   "source": [
    "Xdata = Voltage_train\n",
    "NoCenters_no_thresh = 500\n",
    "# NoCenters_above_thresh = 50\n",
    "DDF = Gauss()\n",
    "# Combine centers above threshold with centers determined by kmeans\n",
    "Center = DDF.KmeanCenter(Xdata,NoCenters_no_thresh,D,length,tau)\n",
    "\n",
    "Current_train = loaded_I[:train_timestep_end]\n",
    "stim_train = Current_train\n",
    "\n",
    "beta = 10#np.array(np.power(10.0,range(-3,3))) #range(-3,3) makes array go from 1e-3 to 1e2, not 1e3\n",
    "R = 10**(-8)\n",
    "D = 10\n",
    "tau = 10\n",
    "\n",
    "F = DDF.FuncApproxF(Xdata,length,Center,beta,R,D,stim_train,tau)\n",
    "Pdata = Voltage_test\n",
    "Current_test = loaded_I[train_timestep_end:total_num_timesteps_in_data]\n",
    "PredValidation = DDF.PredictIntoTheFuture(F,PreLength,Current_test[bias-1:],Pdata[bias-1-(D-1)*tau:])"
   ]
  },
  {
   "cell_type": "code",
   "execution_count": 119,
   "metadata": {},
   "outputs": [],
   "source": [
    "plt.figure(figsize=(20,10))\n",
    "plt.plot(X,Pdata[bias:bias + PreLength],label = 'True Voltage', color = 'black')\n",
    "plt.plot(X,PredValidation[tau*(D-1)+1:tau*(D-1)+PreLength+1],'r--',label = 'Prediction')\n",
    "plt.xlabel('Time ('+str(Time_units)+')',fontsize=20)\n",
    "plt.ylabel('Voltage ('+str(Voltage_units)+')',fontsize=20)\n",
    "plt.legend()\n",
    "plt.title('Plot of 500 Centers (R='+str(R)+', beta='+str(beta)+', D='+str(D)+', tau='+str(tau)+')',fontsize=20)\n",
    "plt.savefig(fish_folder+'500 Centers (R='+str(R)+', beta='+str(beta)+', D='+str(D)+', tau='+str(tau)+')')"
   ]
  },
  {
   "cell_type": "code",
   "execution_count": 192,
   "metadata": {},
   "outputs": [
    {
     "ename": "ValueError",
     "evalue": "'c' argument has 600 elements, which is inconsistent with 'x' and 'y' with size 500.",
     "output_type": "error",
     "traceback": [
      "\u001b[1;31m---------------------------------------------------------------------------\u001b[0m",
      "\u001b[1;31mValueError\u001b[0m                                Traceback (most recent call last)",
      "\u001b[1;32mC:\\ProgramData\\Anaconda3\\lib\\site-packages\\matplotlib\\axes\\_axes.py\u001b[0m in \u001b[0;36m_parse_scatter_color_args\u001b[1;34m(c, edgecolors, kwargs, xsize, get_next_color_func)\u001b[0m\n\u001b[0;32m   4349\u001b[0m             \u001b[1;32mtry\u001b[0m\u001b[1;33m:\u001b[0m  \u001b[1;31m# Is 'c' acceptable as PathCollection facecolors?\u001b[0m\u001b[1;33m\u001b[0m\u001b[1;33m\u001b[0m\u001b[0m\n\u001b[1;32m-> 4350\u001b[1;33m                 \u001b[0mcolors\u001b[0m \u001b[1;33m=\u001b[0m \u001b[0mmcolors\u001b[0m\u001b[1;33m.\u001b[0m\u001b[0mto_rgba_array\u001b[0m\u001b[1;33m(\u001b[0m\u001b[0mc\u001b[0m\u001b[1;33m)\u001b[0m\u001b[1;33m\u001b[0m\u001b[1;33m\u001b[0m\u001b[0m\n\u001b[0m\u001b[0;32m   4351\u001b[0m             \u001b[1;32mexcept\u001b[0m \u001b[1;33m(\u001b[0m\u001b[0mTypeError\u001b[0m\u001b[1;33m,\u001b[0m \u001b[0mValueError\u001b[0m\u001b[1;33m)\u001b[0m \u001b[1;32mas\u001b[0m \u001b[0merr\u001b[0m\u001b[1;33m:\u001b[0m\u001b[1;33m\u001b[0m\u001b[1;33m\u001b[0m\u001b[0m\n",
      "\u001b[1;32mC:\\ProgramData\\Anaconda3\\lib\\site-packages\\matplotlib\\colors.py\u001b[0m in \u001b[0;36mto_rgba_array\u001b[1;34m(c, alpha)\u001b[0m\n\u001b[0;32m    384\u001b[0m     \u001b[1;32melse\u001b[0m\u001b[1;33m:\u001b[0m\u001b[1;33m\u001b[0m\u001b[1;33m\u001b[0m\u001b[0m\n\u001b[1;32m--> 385\u001b[1;33m         \u001b[0mrgba\u001b[0m \u001b[1;33m=\u001b[0m \u001b[0mnp\u001b[0m\u001b[1;33m.\u001b[0m\u001b[0marray\u001b[0m\u001b[1;33m(\u001b[0m\u001b[1;33m[\u001b[0m\u001b[0mto_rgba\u001b[0m\u001b[1;33m(\u001b[0m\u001b[0mcc\u001b[0m\u001b[1;33m)\u001b[0m \u001b[1;32mfor\u001b[0m \u001b[0mcc\u001b[0m \u001b[1;32min\u001b[0m \u001b[0mc\u001b[0m\u001b[1;33m]\u001b[0m\u001b[1;33m)\u001b[0m\u001b[1;33m\u001b[0m\u001b[1;33m\u001b[0m\u001b[0m\n\u001b[0m\u001b[0;32m    386\u001b[0m \u001b[1;33m\u001b[0m\u001b[0m\n",
      "\u001b[1;32mC:\\ProgramData\\Anaconda3\\lib\\site-packages\\matplotlib\\colors.py\u001b[0m in \u001b[0;36m<listcomp>\u001b[1;34m(.0)\u001b[0m\n\u001b[0;32m    384\u001b[0m     \u001b[1;32melse\u001b[0m\u001b[1;33m:\u001b[0m\u001b[1;33m\u001b[0m\u001b[1;33m\u001b[0m\u001b[0m\n\u001b[1;32m--> 385\u001b[1;33m         \u001b[0mrgba\u001b[0m \u001b[1;33m=\u001b[0m \u001b[0mnp\u001b[0m\u001b[1;33m.\u001b[0m\u001b[0marray\u001b[0m\u001b[1;33m(\u001b[0m\u001b[1;33m[\u001b[0m\u001b[0mto_rgba\u001b[0m\u001b[1;33m(\u001b[0m\u001b[0mcc\u001b[0m\u001b[1;33m)\u001b[0m \u001b[1;32mfor\u001b[0m \u001b[0mcc\u001b[0m \u001b[1;32min\u001b[0m \u001b[0mc\u001b[0m\u001b[1;33m]\u001b[0m\u001b[1;33m)\u001b[0m\u001b[1;33m\u001b[0m\u001b[1;33m\u001b[0m\u001b[0m\n\u001b[0m\u001b[0;32m    386\u001b[0m \u001b[1;33m\u001b[0m\u001b[0m\n",
      "\u001b[1;32mC:\\ProgramData\\Anaconda3\\lib\\site-packages\\matplotlib\\colors.py\u001b[0m in \u001b[0;36mto_rgba\u001b[1;34m(c, alpha)\u001b[0m\n\u001b[0;32m    205\u001b[0m     \u001b[1;32mif\u001b[0m \u001b[0mrgba\u001b[0m \u001b[1;32mis\u001b[0m \u001b[1;32mNone\u001b[0m\u001b[1;33m:\u001b[0m  \u001b[1;31m# Suppress exception chaining of cache lookup failure.\u001b[0m\u001b[1;33m\u001b[0m\u001b[1;33m\u001b[0m\u001b[0m\n\u001b[1;32m--> 206\u001b[1;33m         \u001b[0mrgba\u001b[0m \u001b[1;33m=\u001b[0m \u001b[0m_to_rgba_no_colorcycle\u001b[0m\u001b[1;33m(\u001b[0m\u001b[0mc\u001b[0m\u001b[1;33m,\u001b[0m \u001b[0malpha\u001b[0m\u001b[1;33m)\u001b[0m\u001b[1;33m\u001b[0m\u001b[1;33m\u001b[0m\u001b[0m\n\u001b[0m\u001b[0;32m    207\u001b[0m         \u001b[1;32mtry\u001b[0m\u001b[1;33m:\u001b[0m\u001b[1;33m\u001b[0m\u001b[1;33m\u001b[0m\u001b[0m\n",
      "\u001b[1;32mC:\\ProgramData\\Anaconda3\\lib\\site-packages\\matplotlib\\colors.py\u001b[0m in \u001b[0;36m_to_rgba_no_colorcycle\u001b[1;34m(c, alpha)\u001b[0m\n\u001b[0;32m    283\u001b[0m     \u001b[1;32mif\u001b[0m \u001b[1;32mnot\u001b[0m \u001b[0mnp\u001b[0m\u001b[1;33m.\u001b[0m\u001b[0miterable\u001b[0m\u001b[1;33m(\u001b[0m\u001b[0mc\u001b[0m\u001b[1;33m)\u001b[0m\u001b[1;33m:\u001b[0m\u001b[1;33m\u001b[0m\u001b[1;33m\u001b[0m\u001b[0m\n\u001b[1;32m--> 284\u001b[1;33m         \u001b[1;32mraise\u001b[0m \u001b[0mValueError\u001b[0m\u001b[1;33m(\u001b[0m\u001b[1;34mf\"Invalid RGBA argument: {orig_c!r}\"\u001b[0m\u001b[1;33m)\u001b[0m\u001b[1;33m\u001b[0m\u001b[1;33m\u001b[0m\u001b[0m\n\u001b[0m\u001b[0;32m    285\u001b[0m     \u001b[1;32mif\u001b[0m \u001b[0mlen\u001b[0m\u001b[1;33m(\u001b[0m\u001b[0mc\u001b[0m\u001b[1;33m)\u001b[0m \u001b[1;32mnot\u001b[0m \u001b[1;32min\u001b[0m \u001b[1;33m[\u001b[0m\u001b[1;36m3\u001b[0m\u001b[1;33m,\u001b[0m \u001b[1;36m4\u001b[0m\u001b[1;33m]\u001b[0m\u001b[1;33m:\u001b[0m\u001b[1;33m\u001b[0m\u001b[1;33m\u001b[0m\u001b[0m\n",
      "\u001b[1;31mValueError\u001b[0m: Invalid RGBA argument: 0.16221876523993328",
      "\nThe above exception was the direct cause of the following exception:\n",
      "\u001b[1;31mValueError\u001b[0m                                Traceback (most recent call last)",
      "\u001b[1;32m<ipython-input-192-628a2e9f3482>\u001b[0m in \u001b[0;36m<module>\u001b[1;34m\u001b[0m\n\u001b[0;32m      2\u001b[0m \u001b[0max\u001b[0m \u001b[1;33m=\u001b[0m \u001b[0mplt\u001b[0m\u001b[1;33m.\u001b[0m\u001b[0maxes\u001b[0m\u001b[1;33m(\u001b[0m\u001b[0mprojection\u001b[0m\u001b[1;33m=\u001b[0m\u001b[1;34m'3d'\u001b[0m\u001b[1;33m)\u001b[0m\u001b[1;33m\u001b[0m\u001b[1;33m\u001b[0m\u001b[0m\n\u001b[0;32m      3\u001b[0m \u001b[0mweights\u001b[0m \u001b[1;33m=\u001b[0m \u001b[0mDDF\u001b[0m\u001b[1;33m.\u001b[0m\u001b[0mW\u001b[0m\u001b[1;33m[\u001b[0m\u001b[1;33m:\u001b[0m\u001b[1;33m-\u001b[0m\u001b[1;36m1\u001b[0m\u001b[1;33m]\u001b[0m\u001b[1;33m\u001b[0m\u001b[1;33m\u001b[0m\u001b[0m\n\u001b[1;32m----> 4\u001b[1;33m \u001b[0mp\u001b[0m\u001b[1;33m=\u001b[0m\u001b[0max\u001b[0m\u001b[1;33m.\u001b[0m\u001b[0mscatter3D\u001b[0m\u001b[1;33m(\u001b[0m\u001b[0mCenter\u001b[0m\u001b[1;33m[\u001b[0m\u001b[1;33m:\u001b[0m\u001b[1;33m,\u001b[0m \u001b[1;36m0\u001b[0m\u001b[1;33m]\u001b[0m\u001b[1;33m,\u001b[0m \u001b[0mCenter\u001b[0m\u001b[1;33m[\u001b[0m\u001b[1;33m:\u001b[0m\u001b[1;33m,\u001b[0m \u001b[1;36m4\u001b[0m\u001b[1;33m]\u001b[0m\u001b[1;33m,\u001b[0m \u001b[0mCenter\u001b[0m\u001b[1;33m[\u001b[0m\u001b[1;33m:\u001b[0m\u001b[1;33m,\u001b[0m \u001b[1;36m9\u001b[0m\u001b[1;33m]\u001b[0m\u001b[1;33m,\u001b[0m \u001b[0mc\u001b[0m\u001b[1;33m=\u001b[0m\u001b[0mweights\u001b[0m\u001b[1;33m,\u001b[0m \u001b[0mcmap\u001b[0m\u001b[1;33m=\u001b[0m\u001b[0mplt\u001b[0m\u001b[1;33m.\u001b[0m\u001b[0mcm\u001b[0m\u001b[1;33m.\u001b[0m\u001b[0mseismic\u001b[0m\u001b[1;33m,\u001b[0m \u001b[0ms\u001b[0m\u001b[1;33m=\u001b[0m\u001b[1;36m10\u001b[0m\u001b[1;33m,\u001b[0m \u001b[0medgecolors\u001b[0m\u001b[1;33m=\u001b[0m\u001b[1;34m'black'\u001b[0m\u001b[1;33m,\u001b[0m \u001b[0mlinewidths\u001b[0m\u001b[1;33m=\u001b[0m\u001b[1;36m0.13\u001b[0m\u001b[1;33m)\u001b[0m\u001b[1;33m\u001b[0m\u001b[1;33m\u001b[0m\u001b[0m\n\u001b[0m\u001b[0;32m      5\u001b[0m \u001b[0mplt\u001b[0m\u001b[1;33m.\u001b[0m\u001b[0mtitle\u001b[0m\u001b[1;33m(\u001b[0m\u001b[1;34m\"3D Time Delay Vector plot (500 Centers)\"\u001b[0m\u001b[1;33m)\u001b[0m\u001b[1;33m\u001b[0m\u001b[1;33m\u001b[0m\u001b[0m\n\u001b[0;32m      6\u001b[0m \u001b[0max\u001b[0m\u001b[1;33m.\u001b[0m\u001b[0mset_xlabel\u001b[0m\u001b[1;33m(\u001b[0m\u001b[1;34m\"V(t)\"\u001b[0m\u001b[1;33m,\u001b[0m \u001b[0mfontsize\u001b[0m\u001b[1;33m=\u001b[0m\u001b[1;36m10\u001b[0m\u001b[1;33m)\u001b[0m\u001b[1;33m\u001b[0m\u001b[1;33m\u001b[0m\u001b[0m\n",
      "\u001b[1;32mC:\\ProgramData\\Anaconda3\\lib\\site-packages\\mpl_toolkits\\mplot3d\\axes3d.py\u001b[0m in \u001b[0;36mscatter\u001b[1;34m(self, xs, ys, zs, zdir, s, c, depthshade, *args, **kwargs)\u001b[0m\n\u001b[0;32m   2414\u001b[0m             \u001b[0mzs\u001b[0m \u001b[1;33m=\u001b[0m \u001b[0mzs\u001b[0m\u001b[1;33m.\u001b[0m\u001b[0mcopy\u001b[0m\u001b[1;33m(\u001b[0m\u001b[1;33m)\u001b[0m\u001b[1;33m\u001b[0m\u001b[1;33m\u001b[0m\u001b[0m\n\u001b[0;32m   2415\u001b[0m \u001b[1;33m\u001b[0m\u001b[0m\n\u001b[1;32m-> 2416\u001b[1;33m         \u001b[0mpatches\u001b[0m \u001b[1;33m=\u001b[0m \u001b[0msuper\u001b[0m\u001b[1;33m(\u001b[0m\u001b[1;33m)\u001b[0m\u001b[1;33m.\u001b[0m\u001b[0mscatter\u001b[0m\u001b[1;33m(\u001b[0m\u001b[0mxs\u001b[0m\u001b[1;33m,\u001b[0m \u001b[0mys\u001b[0m\u001b[1;33m,\u001b[0m \u001b[0ms\u001b[0m\u001b[1;33m=\u001b[0m\u001b[0ms\u001b[0m\u001b[1;33m,\u001b[0m \u001b[0mc\u001b[0m\u001b[1;33m=\u001b[0m\u001b[0mc\u001b[0m\u001b[1;33m,\u001b[0m \u001b[1;33m*\u001b[0m\u001b[0margs\u001b[0m\u001b[1;33m,\u001b[0m \u001b[1;33m**\u001b[0m\u001b[0mkwargs\u001b[0m\u001b[1;33m)\u001b[0m\u001b[1;33m\u001b[0m\u001b[1;33m\u001b[0m\u001b[0m\n\u001b[0m\u001b[0;32m   2417\u001b[0m         art3d.patch_collection_2d_to_3d(patches, zs=zs, zdir=zdir,\n\u001b[0;32m   2418\u001b[0m                                         depthshade=depthshade)\n",
      "\u001b[1;32mC:\\ProgramData\\Anaconda3\\lib\\site-packages\\matplotlib\\__init__.py\u001b[0m in \u001b[0;36minner\u001b[1;34m(ax, data, *args, **kwargs)\u001b[0m\n\u001b[0;32m   1359\u001b[0m     \u001b[1;32mdef\u001b[0m \u001b[0minner\u001b[0m\u001b[1;33m(\u001b[0m\u001b[0max\u001b[0m\u001b[1;33m,\u001b[0m \u001b[1;33m*\u001b[0m\u001b[0margs\u001b[0m\u001b[1;33m,\u001b[0m \u001b[0mdata\u001b[0m\u001b[1;33m=\u001b[0m\u001b[1;32mNone\u001b[0m\u001b[1;33m,\u001b[0m \u001b[1;33m**\u001b[0m\u001b[0mkwargs\u001b[0m\u001b[1;33m)\u001b[0m\u001b[1;33m:\u001b[0m\u001b[1;33m\u001b[0m\u001b[1;33m\u001b[0m\u001b[0m\n\u001b[0;32m   1360\u001b[0m         \u001b[1;32mif\u001b[0m \u001b[0mdata\u001b[0m \u001b[1;32mis\u001b[0m \u001b[1;32mNone\u001b[0m\u001b[1;33m:\u001b[0m\u001b[1;33m\u001b[0m\u001b[1;33m\u001b[0m\u001b[0m\n\u001b[1;32m-> 1361\u001b[1;33m             \u001b[1;32mreturn\u001b[0m \u001b[0mfunc\u001b[0m\u001b[1;33m(\u001b[0m\u001b[0max\u001b[0m\u001b[1;33m,\u001b[0m \u001b[1;33m*\u001b[0m\u001b[0mmap\u001b[0m\u001b[1;33m(\u001b[0m\u001b[0msanitize_sequence\u001b[0m\u001b[1;33m,\u001b[0m \u001b[0margs\u001b[0m\u001b[1;33m)\u001b[0m\u001b[1;33m,\u001b[0m \u001b[1;33m**\u001b[0m\u001b[0mkwargs\u001b[0m\u001b[1;33m)\u001b[0m\u001b[1;33m\u001b[0m\u001b[1;33m\u001b[0m\u001b[0m\n\u001b[0m\u001b[0;32m   1362\u001b[0m \u001b[1;33m\u001b[0m\u001b[0m\n\u001b[0;32m   1363\u001b[0m         \u001b[0mbound\u001b[0m \u001b[1;33m=\u001b[0m \u001b[0mnew_sig\u001b[0m\u001b[1;33m.\u001b[0m\u001b[0mbind\u001b[0m\u001b[1;33m(\u001b[0m\u001b[0max\u001b[0m\u001b[1;33m,\u001b[0m \u001b[1;33m*\u001b[0m\u001b[0margs\u001b[0m\u001b[1;33m,\u001b[0m \u001b[1;33m**\u001b[0m\u001b[0mkwargs\u001b[0m\u001b[1;33m)\u001b[0m\u001b[1;33m\u001b[0m\u001b[1;33m\u001b[0m\u001b[0m\n",
      "\u001b[1;32mC:\\ProgramData\\Anaconda3\\lib\\site-packages\\matplotlib\\axes\\_axes.py\u001b[0m in \u001b[0;36mscatter\u001b[1;34m(self, x, y, s, c, marker, cmap, norm, vmin, vmax, alpha, linewidths, edgecolors, plotnonfinite, **kwargs)\u001b[0m\n\u001b[0;32m   4516\u001b[0m             self._parse_scatter_color_args(\n\u001b[0;32m   4517\u001b[0m                 \u001b[0mc\u001b[0m\u001b[1;33m,\u001b[0m \u001b[0medgecolors\u001b[0m\u001b[1;33m,\u001b[0m \u001b[0mkwargs\u001b[0m\u001b[1;33m,\u001b[0m \u001b[0mx\u001b[0m\u001b[1;33m.\u001b[0m\u001b[0msize\u001b[0m\u001b[1;33m,\u001b[0m\u001b[1;33m\u001b[0m\u001b[1;33m\u001b[0m\u001b[0m\n\u001b[1;32m-> 4518\u001b[1;33m                 get_next_color_func=self._get_patches_for_fill.get_next_color)\n\u001b[0m\u001b[0;32m   4519\u001b[0m \u001b[1;33m\u001b[0m\u001b[0m\n\u001b[0;32m   4520\u001b[0m         \u001b[1;32mif\u001b[0m \u001b[0mplotnonfinite\u001b[0m \u001b[1;32mand\u001b[0m \u001b[0mcolors\u001b[0m \u001b[1;32mis\u001b[0m \u001b[1;32mNone\u001b[0m\u001b[1;33m:\u001b[0m\u001b[1;33m\u001b[0m\u001b[1;33m\u001b[0m\u001b[0m\n",
      "\u001b[1;32mC:\\ProgramData\\Anaconda3\\lib\\site-packages\\matplotlib\\axes\\_axes.py\u001b[0m in \u001b[0;36m_parse_scatter_color_args\u001b[1;34m(c, edgecolors, kwargs, xsize, get_next_color_func)\u001b[0m\n\u001b[0;32m   4354\u001b[0m                 \u001b[1;32melse\u001b[0m\u001b[1;33m:\u001b[0m\u001b[1;33m\u001b[0m\u001b[1;33m\u001b[0m\u001b[0m\n\u001b[0;32m   4355\u001b[0m                     \u001b[1;32mif\u001b[0m \u001b[1;32mnot\u001b[0m \u001b[0mvalid_shape\u001b[0m\u001b[1;33m:\u001b[0m\u001b[1;33m\u001b[0m\u001b[1;33m\u001b[0m\u001b[0m\n\u001b[1;32m-> 4356\u001b[1;33m                         \u001b[1;32mraise\u001b[0m \u001b[0minvalid_shape_exception\u001b[0m\u001b[1;33m(\u001b[0m\u001b[0mc\u001b[0m\u001b[1;33m.\u001b[0m\u001b[0msize\u001b[0m\u001b[1;33m,\u001b[0m \u001b[0mxsize\u001b[0m\u001b[1;33m)\u001b[0m \u001b[1;32mfrom\u001b[0m \u001b[0merr\u001b[0m\u001b[1;33m\u001b[0m\u001b[1;33m\u001b[0m\u001b[0m\n\u001b[0m\u001b[0;32m   4357\u001b[0m                     \u001b[1;31m# Both the mapping *and* the RGBA conversion failed: pretty\u001b[0m\u001b[1;33m\u001b[0m\u001b[1;33m\u001b[0m\u001b[1;33m\u001b[0m\u001b[0m\n\u001b[0;32m   4358\u001b[0m                     \u001b[1;31m# severe failure => one may appreciate a verbose feedback.\u001b[0m\u001b[1;33m\u001b[0m\u001b[1;33m\u001b[0m\u001b[1;33m\u001b[0m\u001b[0m\n",
      "\u001b[1;31mValueError\u001b[0m: 'c' argument has 600 elements, which is inconsistent with 'x' and 'y' with size 500."
     ]
    }
   ],
   "source": [
    "fig=plt.figure(figsize=(18,8))\n",
    "ax = plt.axes(projection='3d')\n",
    "weights = DDF.W[:-1]\n",
    "p=ax.scatter3D(Center[:, 0], Center[:, 4], Center[:, 9], c=weights, cmap=plt.cm.seismic, s=10, edgecolors='black', linewidths=0.13)\n",
    "plt.title(\"3D Time Delay Vector plot (500 Centers)\")\n",
    "ax.set_xlabel(\"V(t)\", fontsize=10)\n",
    "ax.set_ylabel(\"V(t-5*tau)\", fontsize=10)\n",
    "ax.set_zlabel(\"V(t-10*tau)\", fontsize=10)\n",
    "ax.view_init(30,-45)\n",
    "fig.colorbar(p, ax=ax)\n",
    "plt.savefig(fish_folder+'Weight plot of 500 Centers (R='+str(R)+', beta='+str(beta)+', D='+str(D)+', tau='+str(tau)+')')"
   ]
  },
  {
   "cell_type": "code",
   "execution_count": 240,
   "metadata": {},
   "outputs": [],
   "source": [
    "def SelectRange(low, high, X_tdelayed):\n",
    "    \"\"\"Find times during which current is spiking\"\"\"\n",
    "    fish = []\n",
    "    for t_index, x in enumerate(X_tdelayed.T):\n",
    "        if x[0]<high and x[0]>low:\n",
    "            if x[4]<-10 and x[4]>-60:\n",
    "                    if(abs(x[0]-x[4])>2.0):\n",
    "                        fish.append(t_index)\n",
    "#                     print(x[0],x[4],x[9])\n",
    "    return np.array(fish)"
   ]
  },
  {
   "cell_type": "code",
   "execution_count": 248,
   "metadata": {},
   "outputs": [
    {
     "name": "stdout",
     "output_type": "stream",
     "text": [
      "[[-8.12903822e+01 -8.12472985e+01 -8.12019359e+01 ... -8.09422246e+01\n",
      "  -8.08812404e+01 -8.08178626e+01]\n",
      " [-4.43982536e+01 -4.37594031e+01 -4.30778043e+01 ... -3.91805195e+01\n",
      "  -3.82580455e+01 -3.72984636e+01]\n",
      " [-6.35330901e+01 -6.35566171e+01 -6.35754283e+01 ... -6.36119704e+01\n",
      "  -6.36130923e+01 -6.36155540e+01]\n",
      " ...\n",
      " [-8.18966363e+01 -8.18534759e+01 -8.18052751e+01 ... -8.15622000e+01\n",
      "  -8.15033917e+01 -8.14387050e+01]\n",
      " [ 4.39780808e+00  5.28281787e+00  5.94456747e+00 ...  3.36181659e+00\n",
      "  -5.13336682e-02 -5.10922081e+00]\n",
      " [-7.58869942e+01 -7.57862415e+01 -7.56850106e+01 ... -7.51452289e+01\n",
      "  -7.50310989e+01 -7.49113564e+01]]\n"
     ]
    }
   ],
   "source": [
    "plt.figure()\n",
    "plt.scatter(Center[:, 0], Center[:, 4])\n",
    "plt.plot()\n",
    "print(Center)\n"
   ]
  },
  {
   "cell_type": "code",
   "execution_count": 250,
   "metadata": {},
   "outputs": [
    {
     "name": "stdout",
     "output_type": "stream",
     "text": [
      "Shape of (10, 499899)\n",
      "Length+1: 499001\n",
      "Shape of Xdata: (500000,)\n",
      "Shape of XTau: (10, 499001)\n",
      "Sample Xdata over length:(90, 499091)\n"
     ]
    }
   ],
   "source": [
    "from sklearn.cluster import KMeans\n",
    "\n",
    "X_tdelayed = np.zeros((D,Xdata.shape[0]-(1+tau*D)))\n",
    "for d in range(D):\n",
    "    X_tdelayed[D-1-d] = Xdata[tau*d+1:Xdata.shape[0]-(tau*D+1)+(tau*d+1)]\n",
    "print(f\"Shape of {X_tdelayed.shape}\")\n",
    "t_indices = SelectRange(-50,30,X_tdelayed)\n",
    "# print(Xdata2)\n",
    "NoCenters_extra = 1000\n",
    "# print(len(Xdata2)-1000)\n",
    "# Center2 = DDF.KmeanCenter(Xdata2,NoCenters_extra,D,len(Xdata2)-1000,tau)\n",
    "# Initialize the KMeans object with the desired number of clusters\n",
    "kmeans = KMeans(n_clusters=NoCenters_extra)\n",
    "\n",
    "# Fit the KMeans object to the X_tdelayed data\n",
    "kmeans.fit(X_tdelayed[:,t_indices].T)\n",
    "\n",
    "# Retrieve the cluster centroids\n",
    "Center2 = kmeans.cluster_centers_\n",
    "Centers2 = np.concatenate([Center,Center2])\n",
    "F2 = DDF.FuncApproxF(Xdata,length,Centers2,beta,R,D,stim_train,tau)\n",
    "PredValidation2 = DDF.PredictIntoTheFuture(F2,PreLength,Current_test[bias-1:],Pdata[bias-1-(D-1)*tau:])\n"
   ]
  },
  {
   "cell_type": "markdown",
   "metadata": {},
   "source": [
    "# weights = DDF.W\n",
    "# for i in range(1000):\n",
    "#     weights[i+499] = weights[i+499]+10\n",
    "# DDF.ChangeW(weights)"
   ]
  },
  {
   "cell_type": "code",
   "execution_count": 269,
   "metadata": {},
   "outputs": [],
   "source": [
    "plt.figure(figsize=(20,10))\n",
    "plt.plot(X,Pdata[bias:bias + PreLength],label = 'True Voltage', color = 'black')\n",
    "plt.plot(X,PredValidation2[tau*(D-1)+1:tau*(D-1)+PreLength+1],'r--',label = 'Prediction')\n",
    "plt.xlabel('Time ('+str(Time_units)+')',fontsize=20)\n",
    "plt.ylabel('Voltage ('+str(Voltage_units)+')',fontsize=20)\n",
    "plt.legend()\n",
    "plt.title('Plot of 500+1000 Centers (R='+str(R)+', beta='+str(beta)+', D='+str(D)+', tau='+str(tau)+')',fontsize=20)\n",
    "plt.savefig(fish_folder+'500+1000 Centers (R='+str(R)+', beta='+str(beta)+', D='+str(D)+', tau='+str(tau)+')')\n",
    "np.savetxt(fish_folder+\"Prediction of 500+1000 Centers (R='+str(R)+', beta='+str(beta)+', D='+str(D)+', tau='+str(tau)+')',fontsize=20.txt\",\n",
    "          np.array(np.vstack((X, Pdata[bias:bias + PreLength],PredValidation2[tau*(D-1)+1:tau*(D-1)+PreLength+1]) )).T)"
   ]
  },
  {
   "cell_type": "code",
   "execution_count": 263,
   "metadata": {},
   "outputs": [],
   "source": [
    "plt.figure(figsize=(20,10))\n",
    "plt.plot(X,PredValidation2[tau*(D-1)+1:tau*(D-1)+PreLength+1],color = 'black',label = '500+1000 Centers')\n",
    "plt.plot(X,PredValidation[tau*(D-1)+1:tau*(D-1)+PreLength+1],'r--',label = '500Centers')\n",
    "plt.xlabel('Time ('+str(Time_units)+')',fontsize=20)\n",
    "plt.ylabel('Voltage ('+str(Voltage_units)+')',fontsize=20)\n",
    "plt.legend()\n",
    "plt.title('Plot of difference (R='+str(R)+', beta='+str(beta)+', D='+str(D)+', tau='+str(tau)+')',fontsize=20)\n",
    "plt.savefig(fish_folder+'Difference (R='+str(R)+', beta='+str(beta)+', D='+str(D)+', tau='+str(tau)+')')"
   ]
  },
  {
   "cell_type": "code",
   "execution_count": 264,
   "metadata": {},
   "outputs": [],
   "source": [
    "fig=plt.figure(figsize=(18,8))\n",
    "ax = plt.axes(projection='3d')\n",
    "weights_2 = DDF.W[:-1]\n",
    "p=ax.scatter3D(Centers2[:, 0], Centers2[:, 4], Centers2[:, 9], c=weights_2, cmap=plt.cm.seismic, s=10, edgecolors='black', linewidths=0.13)\n",
    "plt.title(\"3D Time Delay Vector plot (500+1000 Centers)\")\n",
    "ax.set_xlabel(\"V(t)\", fontsize=10)\n",
    "ax.set_ylabel(\"V(t-5*tau)\", fontsize=10)\n",
    "ax.set_zlabel(\"V(t-10*tau)\", fontsize=10)\n",
    "ax.view_init(30,-45)\n",
    "fig.colorbar(p, ax=ax)\n",
    "plt.savefig(fish_folder+'Weight plot of 500+1000 Centers (R='+str(R)+', beta='+str(beta)+', D='+str(D)+', tau='+str(tau)+')')"
   ]
  },
  {
   "cell_type": "code",
   "execution_count": 265,
   "metadata": {},
   "outputs": [
    {
     "name": "stdout",
     "output_type": "stream",
     "text": [
      "Shape of Centers2:(1500, 10)\n"
     ]
    }
   ],
   "source": [
    "print(f\"Shape of Centers2:{Centers2.shape}\")\n",
    "np.savetxt(fish_folder+\"Centers500+1000.txt\",Centers2)"
   ]
  },
  {
   "cell_type": "code",
   "execution_count": null,
   "metadata": {},
   "outputs": [],
   "source": []
  },
  {
   "cell_type": "code",
   "execution_count": null,
   "metadata": {},
   "outputs": [],
   "source": []
  }
 ],
 "metadata": {
  "kernelspec": {
   "display_name": "Python 3",
   "language": "python",
   "name": "python3"
  },
  "language_info": {
   "codemirror_mode": {
    "name": "ipython",
    "version": 3
   },
   "file_extension": ".py",
   "mimetype": "text/x-python",
   "name": "python",
   "nbconvert_exporter": "python",
   "pygments_lexer": "ipython3",
   "version": "3.7.7"
  }
 },
 "nbformat": 4,
 "nbformat_minor": 2
}
