{
 "cells": [
  {
   "cell_type": "markdown",
   "id": "656f1830",
   "metadata": {},
   "source": [
    "V(t) of Nogaret HVCx model stimulated by chosen I(t) written by Dr. Jason Platt in Julia language:"
   ]
  },
  {
   "cell_type": "code",
   "execution_count": null,
   "id": "1a2f36db",
   "metadata": {},
   "outputs": [],
   "source": []
  }
 ],
 "metadata": {
  "kernelspec": {
   "display_name": "Python 3",
   "language": "python",
   "name": "python3"
  },
  "language_info": {
   "codemirror_mode": {
    "name": "ipython",
    "version": 3
   },
   "file_extension": ".py",
   "mimetype": "text/x-python",
   "name": "python",
   "nbconvert_exporter": "python",
   "pygments_lexer": "ipython3",
   "version": "3.7.7"
  }
 },
 "nbformat": 4,
 "nbformat_minor": 5
}
