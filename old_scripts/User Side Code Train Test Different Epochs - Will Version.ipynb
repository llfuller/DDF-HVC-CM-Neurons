{
 "cells": [
  {
   "cell_type": "code",
   "execution_count": null,
   "metadata": {},
   "outputs": [],
   "source": [
    "from TimeDelay_Neuron_DDF_GaussianForm-Copy1 import *\n",
    "import numpy as np\n",
    "import time\n",
    "import matplotlib.pyplot as plt\n",
    "import random\n",
    "import copy\n",
    "random.seed()\n",
    "np.random.seed()"
   ]
  },
  {
   "cell_type": "code",
   "execution_count": null,
   "metadata": {},
   "outputs": [],
   "source": [
    "# modify this\n",
    "use_neuron_index = 3\n",
    "neuron_txt_filename = 'Episode_2_voltage.txt'\n",
    "epoch = None # also called \"episode\". set to None if not specified"
   ]
  },
  {
   "cell_type": "code",
   "execution_count": null,
   "metadata": {},
   "outputs": [],
   "source": [
    "# ======== do not modify below ==========\n",
    "neuron_name_list = ['Neuron_52_6-8-16',\n",
    "                    'Neuron_57_6-8-16',\n",
    "                    'Neuron_61_6-8-16',\n",
    "                    'Neuron_8-15-2019']\n",
    "directories_list = ['HVC_ra_x_i_data_2016_2019/50 KhZ Recordings - 06_08_16/50KhZ-06_08_16/50KhZ-06_08_16/Neuron 52/',\n",
    "                   'HVC_ra_x_i_data_2016_2019/50 KhZ Recordings - 06_08_16/50KhZ-06_08_16/50KhZ-06_08_16/Neuron 57/',\n",
    "                   'HVC_ra_x_i_data_2016_2019/50 KhZ Recordings - 06_08_16/50KhZ-06_08_16/50KhZ-06_08_16/Neuron 61/',\n",
    "                   'HVC_ra_x_i_data_2016_2019/08-15-2019/']\n",
    "\n",
    "Voltage_train = np.loadtxt(directories_list[use_neuron_index]+'Episode_2_voltage.txt')\n",
    "Current_train = np.loadtxt(directories_list[use_neuron_index]+'Episode_2_current.txt')\n",
    "Voltage_test = np.loadtxt(directories_list[use_neuron_index]+'Episode_3_voltage.txt')\n",
    "Current_test = np.loadtxt(directories_list[use_neuron_index]+'Episode_3_current.txt')\n",
    "plt.figure()\n",
    "plt.title(\"Voltage\")\n",
    "plt.plot(Voltage_train, color='blue')\n",
    "plt.plot(Voltage_test, color='orange')\n",
    "plt.show()\n",
    "plt.figure()\n",
    "plt.title(\"Current\")\n",
    "plt.plot(Current_train, color='blue')\n",
    "plt.plot(Current_test, color='orange')\n",
    "plt.xlim((0,150000))\n",
    "plt.show()"
   ]
  },
  {
   "cell_type": "code",
   "execution_count": null,
   "metadata": {},
   "outputs": [],
   "source": [
    "tau = 4 # size of time delay in number of timesteps\n",
    "D = 5 # number of time delay dimensions\n",
    "length = 110000 # number of timesteps to use for training\n",
    "Xdata = Voltage_train # data used for training\n",
    "TT = 0.02 # size of a single timestep in real time (measured in ms, so 0.02 is 0.02ms)\n",
    "NoCenters_no_thresh = 300 # number of centers to use\n",
    "DDF = Gauss() # create a Gauss object from the other script\n",
    "# Combine centers above threshold with centers determined by kmeans\n",
    "Centers_k_means = DDF.KmeanCenter(Xdata,NoCenters_no_thresh,D,length,tau); # determine center locations using k means\n",
    "print(\"C_km:\"+str(Centers_k_means.shape))\n",
    "Center = Centers_k_means\n",
    "NoCenters = np.shape(Center)[0]\n",
    "np.savetxt('centers/Center '+neuron_name_list[use_neuron_index]+'.txt',Center)\n",
    "Center = np.loadtxt('centers/Center '+neuron_name_list[use_neuron_index]+'.txt')\n",
    "# Center = np.load('Example/Centers_train25k_5k_D'+str(D)+'_tau'+str(tau)+'.npy')"
   ]
  },
  {
   "cell_type": "code",
   "execution_count": null,
   "metadata": {},
   "outputs": [],
   "source": [
    "stim_train = Current_train # Given stimulus during prediction\n",
    "Pdata = Voltage_test # Truth data which you will compare against prediction\n",
    "PreLength = 180000 # Prediction Length\n",
    "beta_arr,R_arr = np.logspace(-10,3,13).tolist(),np.logspace(-10,3,13).tolist()#,[10e-3,10e-2,10e-1,10e0,10e1,10e2,10e3]\n",
    "bias = 50 # should be larger than tau*(D-1) or something like that\n",
    "X = np.arange(bias,bias+PreLength*TT,TT) # just for plotting x-axis, not simulation\n",
    "stim_test = Current_test"
   ]
  },
  {
   "cell_type": "code",
   "execution_count": null,
   "metadata": {
    "scrolled": true
   },
   "outputs": [],
   "source": [
    "for beta in beta_arr:\n",
    "    for R in R_arr:\n",
    "        # beta = 10e0\n",
    "        # R = 10e-4\n",
    "        title = neuron_name_list[use_neuron_index]+' with 0.02 time step, D = '+str(D)+', Beta = '+str(\"{:.1e}\".format(beta))+', R = '+str(\"{:.1e}\".format(R))+' Train Time = '+str(length)+', Centers = '+str(NoCenters)+', tau = '+str(tau)\n",
    "        F = DDF.FuncApproxF(Xdata,length,Center,beta,R,D,stim_train,tau)\n",
    "        PredValidation = DDF.PredictIntoTheFuture(F,PreLength,stim_test[bias-1:],Pdata[bias-1-(D-1)*tau:])\n",
    "        # Tau8\n",
    "        plt.figure(figsize=(20,10))\n",
    "        plt.plot(X,Pdata[bias:bias + PreLength],label = 'True Voltage', color = 'black')\n",
    "        plt.plot(X,PredValidation[tau*(D-1)+1:tau*(D-1)+PreLength+1],label = 'Prediction', color = 'r')\n",
    "        plt.xlabel('time (ms)',fontsize=20)\n",
    "        plt.ylabel('Voltage',fontsize=20)\n",
    "        plt.legend()\n",
    "        plt.title(title,fontsize=20)\n",
    "        #plt.savefig('Validation Prediction Result')\n",
    "        plt.savefig(title+'.png')\n",
    "        plt.show"
   ]
  },
  {
   "cell_type": "code",
   "execution_count": null,
   "metadata": {},
   "outputs": [],
   "source": [
    "beta = 10e2\n",
    "R = 10e-3\n",
    "title = neuron_name_list[use_neuron_index]+' with 0.02 time step, D = 3, Beta = '+str(\"{:.1e}\".format(beta))+', R = '+str(\"{:.1e}\".format(R))+' Train Time = 50000, Centers = 1000, tau = '+str(tau)\n",
    "print(R)\n",
    "F = DDF.FuncApproxF(Xdata,length,Center,beta,R,D,stim_train,tau)\n",
    "PredValidation = DDF.PredictIntoTheFuture(F,PreLength,stim_test[bias-1:],Pdata[bias-1-(D-1)*tau:])\n",
    "# Tau8\n",
    "plt.figure(figsize=(20,10))\n",
    "plt.plot(X,Pdata[bias:bias + PreLength],label = 'True Voltage', color = 'black')\n",
    "plt.plot(X,PredValidation[tau*(D-1)+1:tau*(D-1)+PreLength+1],label = 'Prediction', color = 'r')\n",
    "plt.xlabel('time (ms)',fontsize=20)\n",
    "plt.ylabel('Voltage',fontsize=20)\n",
    "plt.legend()\n",
    "plt.title(title,fontsize=20)\n",
    "#plt.savefig('Validation Prediction Result')\n",
    "plt.savefig(title+'.png')\n",
    "plt.show"
   ]
  },
  {
   "cell_type": "code",
   "execution_count": null,
   "metadata": {
    "scrolled": true
   },
   "outputs": [],
   "source": [
    "plt.plot(Voltage_train[:100000])\n",
    "plt.plot(Pdata[0:180000])\n",
    "plt.show()\n",
    "\n",
    "plt.figure()\n",
    "plt.plot(np.sort(DDF.W))\n",
    "plt.title(\"RBF Coefficients (Sorted)\")\n",
    "plt.xlabel('Index (Sorted)')\n",
    "plt.ylabel(\"RBF Coefficient Value\")\n",
    "plt.show()\n",
    "\n",
    "plt.figure()\n",
    "plt.plot(np.sort(Center[:,0]))\n",
    "plt.title(\"Centers\")\n",
    "plt.xlabel(\"Sorted centers index\")\n",
    "plt.ylabel(\"Voltage\")\n",
    "plt.show()\n",
    "\n",
    "plt.scatter(Center[:,0],DDF.W[:-1])\n",
    "plt.title(\"Weight as a function of center voltage (unsure)\")\n",
    "plt.xlabel(\"Center voltage\")\n",
    "plt.ylabel(\"Weight (Coeff of RBF)\")\n",
    "plt.show()"
   ]
  },
  {
   "cell_type": "code",
   "execution_count": null,
   "metadata": {},
   "outputs": [],
   "source": [
    "plt.show()\n",
    "plt.figure()\n",
    "plt.plot(np.sort(Center[:,0]))\n",
    "plt.title(\"Voltage of centers\")\n",
    "plt.show()\n",
    "\n",
    "plt.show()\n",
    "plt.figure()\n",
    "plt.plot(Voltage_train[10550:11200])\n",
    "plt.title(\"Demonstration of training voltage resolution around spikes\")\n",
    "plt.show()"
   ]
  },
  {
   "cell_type": "code",
   "execution_count": null,
   "metadata": {},
   "outputs": [],
   "source": [
    "print(\"{:.1e}\".format(15.000002))"
   ]
  }
 ],
 "metadata": {
  "kernelspec": {
   "display_name": "Python 3",
   "language": "python",
   "name": "python3"
  },
  "language_info": {
   "codemirror_mode": {
    "name": "ipython",
    "version": 3
   },
   "file_extension": ".py",
   "mimetype": "text/x-python",
   "name": "python",
   "nbconvert_exporter": "python",
   "pygments_lexer": "ipython3",
   "version": "3.7.7"
  }
 },
 "nbformat": 4,
 "nbformat_minor": 4
}
